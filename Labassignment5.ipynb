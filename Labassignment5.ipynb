{
  "nbformat": 4,
  "nbformat_minor": 0,
  "metadata": {
    "colab": {
      "name": "Labassignment5.ipynb",
      "provenance": [],
      "authorship_tag": "ABX9TyNHdC1827nj1r5YOMC4qKOd",
      "include_colab_link": true
    },
    "kernelspec": {
      "name": "python3",
      "display_name": "Python 3"
    },
    "language_info": {
      "name": "python"
    }
  },
  "cells": [
    {
      "cell_type": "markdown",
      "metadata": {
        "id": "view-in-github",
        "colab_type": "text"
      },
      "source": [
        "<a href=\"https://colab.research.google.com/github/Himanshu30122002/ooplabassignment5/blob/main/Labassignment5.ipynb\" target=\"_parent\"><img src=\"https://colab.research.google.com/assets/colab-badge.svg\" alt=\"Open In Colab\"/></a>"
      ]
    },
    {
      "cell_type": "code",
      "metadata": {
        "colab": {
          "base_uri": "https://localhost:8080/"
        },
        "id": "FxsgJtkOlL4k",
        "outputId": "224894a0-95f4-46d2-80c2-06253c3501e8"
      },
      "source": [
        " # QUES - 3\n",
        "class car:\n",
        "  def __init__(self,carnumber):\n",
        "    self.carnumber=carnumber\n",
        "c1=car(1990)\n",
        "c2=car(2005)\n",
        "print('the model number of c1 is',c1.carnumber)\n",
        "print('the model number of c2 is',c2.carnumber)\n",
        "print('--------------------------------')\n",
        "def carnumswap():\n",
        "  c1.carnumber,c2.carnumber=c2.carnumber,c1.carnumber\n",
        "  print(\"the model number of c1 is \",c1.carnumber)\n",
        "  print(\"the model number of c2 is \",c2.carnumber)\n",
        "carnumswap()"
      ],
      "execution_count": 7,
      "outputs": [
        {
          "output_type": "stream",
          "name": "stdout",
          "text": [
            "the model number of c1 is 1990\n",
            "the model number of c2 is 2005\n",
            "--------------------------------\n",
            "the model number of c1 is  2005\n",
            "the model number of c2 is  1990\n"
          ]
        }
      ]
    },
    {
      "cell_type": "code",
      "metadata": {
        "colab": {
          "base_uri": "https://localhost:8080/"
        },
        "id": "qgngkkbWnTWj",
        "outputId": "692e4d35-8f60-49bb-8d73-d4666df207f1"
      },
      "source": [
        "#ques - 2\n",
        "class travel:\n",
        "\n",
        "  def __init__(self, travel):\n",
        "    self.travel = travel\n",
        "\n",
        "  def number_of_passangers(self):\n",
        "    pass\n",
        "\n",
        "  def distance(self):\n",
        "    pass\n",
        "\n",
        "  def mode(self):\n",
        "    pass\n",
        "\n",
        "class train(travel):\n",
        "\n",
        "  def __init__(self, total_passangers):\n",
        "    self.total_passangers = total_passangers\n",
        "\n",
        "  def cost_of_transport(self):\n",
        "    print('cost of transport by train is',self.total_passangers*60)\n",
        "\n",
        "class bus(travel):\n",
        "\n",
        "  def __init__(self, total_passangers):\n",
        "    self.total_passangers = total_passangers\n",
        "\n",
        "  def cost_of_transport(self):\n",
        "    print('cost of transport by bus is',self.total_passangers*100)\n",
        "\n",
        "mode1 = train(12)\n",
        "mode1.cost_of_transport()\n",
        "\n",
        "mode2 = bus(12)\n",
        "mode2.cost_of_transport()"
      ],
      "execution_count": 8,
      "outputs": [
        {
          "output_type": "stream",
          "name": "stdout",
          "text": [
            "cost of transport by train is 720\n",
            "cost of transport by bus is 1200\n"
          ]
        }
      ]
    },
    {
      "cell_type": "code",
      "metadata": {
        "id": "Pt666Z4GtrQ5"
      },
      "source": [
        "#ques - 1\n",
        "from abc import abc, abstractmethod\n",
        "import math\n",
        "class shape(abc):\n",
        "    def _init_(self, shape):\n",
        "        self.shape = shape\n",
        "\n",
        "    @abstractmethod\n",
        "    def area(self):\n",
        "        pass\n",
        "\n",
        "class rectangle(shape):\n",
        "    def _init_(self, length, breadth):\n",
        "        shape._init_(self, 'rectangle')\n",
        "        self.length = length\n",
        "        self.breadth = breadth\n",
        "\n",
        "    def area(self):\n",
        "        return self.length*self.breadth\n",
        "\n",
        "class circle(shape):\n",
        "    def _init_(self, radius):\n",
        "        shape._init_(self, 'circle')\n",
        "        self.radius = radius\n",
        "\n",
        "    def area(self):\n",
        "        return round((math.pi)(self.radius*2),2)\n",
        "\n",
        "class square(shape):\n",
        "    def _init_(self, side):\n",
        "        shape._init_(self, 'square')\n",
        "        self.side = side\n",
        "\n",
        "    def area(self):\n",
        "        return self.side*self.side\n",
        "\n",
        "sq = square(9)\n",
        "print(\"area of square   :\", sq.area())\n",
        "rect = rectangle(6,7)\n",
        "print(\"area of rectangle:\", rect.area())\n",
        "c = circle(8)\n",
        "print(\"area of circle   :\", c.area())"
      ],
      "execution_count": null,
      "outputs": []
    }
  ]
}